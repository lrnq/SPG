{
 "cells": [
  {
   "cell_type": "code",
   "execution_count": 14,
   "id": "charitable-cabinet",
   "metadata": {},
   "outputs": [],
   "source": [
    "import random\n",
    "from math import log, floor, pow\n",
    "from collections import defaultdict\n",
    "import matplotlib.pyplot as plt"
   ]
  },
  {
   "cell_type": "code",
   "execution_count": 15,
   "id": "threaded-satin",
   "metadata": {},
   "outputs": [],
   "source": [
    "class Rectangle: \n",
    "    def __init__(self, width, height):\n",
    "        self.height, self.width = height, width\n",
    "\n",
    "    def rotate(self):\n",
    "        self.height, self.width = (self.width, self.height) if self.height < self.width else (self.height, self.width)\n",
    "        \n",
    "    def get_dimensions(self):\n",
    "        return self.height, self.width\n",
    "    \n",
    "    def get_area(self):\n",
    "        return self.height * self.width\n",
    "    \n",
    "    def __str__(self):\n",
    "        return f\"Rectangle({self.width}, {self.height})\"\n",
    "    \n",
    "    def __repr__(self):\n",
    "        return self.__str__()"
   ]
  },
  {
   "cell_type": "code",
   "execution_count": 16,
   "id": "informal-wedding",
   "metadata": {},
   "outputs": [],
   "source": [
    "class Block:\n",
    "    def __init__(self, height, n, W):\n",
    "        self.created_at = n\n",
    "        self.height = height\n",
    "        self.rectangle_widths = 0 \n",
    "        self.full = False\n",
    "        self.rectangles = []\n",
    "        self.W = W\n",
    "        \n",
    "    def add_rectangle(self, rectangle):\n",
    "        self.rectangle_widths += rectangle.width\n",
    "        self.rectangles.append(rectangle)\n",
    "        if self.rectangle_widths > 1-self.W:\n",
    "            self.set_full()\n",
    "        \n",
    "    def get_full(self):\n",
    "        return self.full\n",
    "    \n",
    "    def set_full(self):\n",
    "        self.full = True"
   ]
  },
  {
   "cell_type": "code",
   "execution_count": 38,
   "id": "cordless-apple",
   "metadata": {},
   "outputs": [],
   "source": [
    "# Optimizations:\n",
    "## Keep track of the minimum width a rectangle needs for it to be able to block \n",
    "## Delete full blocks\n",
    "\n",
    "class Strip:\n",
    "    def __init__(self, W, alpha, width=1):\n",
    "        self.blocks = defaultdict(list) # \"height\" : \n",
    "        self.blocks_seq = []\n",
    "        self.block_counter = 0\n",
    "        self.width = width\n",
    "        self.opt_lower_bound = 0\n",
    "        self.alpha = alpha\n",
    "        self.W = W\n",
    "        \n",
    "    def get_opt_lower_bound(self):\n",
    "        return self.opt_lower_bound\n",
    "    \n",
    "    def get_height(self):\n",
    "        return sum(block.height for block in self.blocks_seq) \n",
    "        \n",
    "    def insert(self, rectangle):\n",
    "        rectangle.rotate()\n",
    "        if rectangle.width > 1 or rectangle.height > 1:\n",
    "            raise ValueError(\"Width and height cannot be greater than 1\")\n",
    "        self.opt_lower_bound += rectangle.get_area()\n",
    "        bh = self._nearest_power(rectangle.height, self.alpha)\n",
    "        # Check if rectangle is a buffer\n",
    "        if rectangle.width >= self.W:\n",
    "            self._insert_new_block(bh, rectangle)\n",
    "        # Else try to find a viable block\n",
    "        else: self._insert_small_rectangle(bh, rectangle)\n",
    "        return \n",
    "                \n",
    "    def _insert_small_rectangle(self, bh, rectangle):\n",
    "        candidates = self.blocks.get(bh)\n",
    "        if not candidates:\n",
    "            self._insert_new_block(bh, rectangle)\n",
    "        else:\n",
    "            viable_block = self._find_viable_block(candidates, rectangle.width)\n",
    "            if viable_block: viable_block.add_rectangle(rectangle)\n",
    "            else: self._insert_new_block(bh, rectangle)\n",
    "        \n",
    "    def _find_viable_block(self, candidates, width):\n",
    "        lowest_viable = None\n",
    "        for i in range(len(candidates)-1, -1, -1):\n",
    "            if 1-candidates[i].rectangle_widths < width:\n",
    "                break\n",
    "            if not candidates[i].get_full():\n",
    "                lowest_viable = candidates[i]\n",
    "        return lowest_viable\n",
    "            \n",
    "    def _insert_new_block(self, height, rectangle):\n",
    "        self.block_counter += 1\n",
    "        b = Block(height, self.block_counter, self.W)\n",
    "        b.add_rectangle(rectangle)\n",
    "        if b.rectangle_widths > 1-self.W:\n",
    "                b.set_full() \n",
    "        self.blocks[height] += [b]\n",
    "        self.blocks_seq.append(b)\n",
    "        return\n",
    "        \n",
    "    def _nearest_power(self, height, alpha):\n",
    "        return pow(alpha, floor(log(height, alpha)))\n",
    "    \n",
    "    def plot_packing(self, scaling=1):\n",
    "        height = self.get_height()\n",
    "        fig = plt.figure(figsize=(2, max(10, height)))\n",
    "        ax = fig.add_subplot(111)\n",
    "        ax.set_xlim([0, 1])\n",
    "        ax.set_ylim([0, height+0.1/scaling])\n",
    "        ax.set_aspect('equal')\n",
    "        cur_y = 0\n",
    "        for idx, block in enumerate(self.blocks_seq):\n",
    "            cur_x = 0\n",
    "            if idx != len(self.blocks_seq)-1:\n",
    "                ax.axhline(cur_y+block.height, color = 'r', linestyle = '--')\n",
    "            for rectangle in block.rectangles:\n",
    "                ax.add_patch(plt.Rectangle((cur_x, cur_y),\n",
    "                                           rectangle.width,\n",
    "                                           rectangle.height,\n",
    "                                           linestyle=\"-\",\n",
    "                                           ec = \"black\",\n",
    "                                           fc = \"grey\"))\n",
    "                cur_x += rectangle.width\n",
    "            cur_y += block.height\n",
    "        return"
   ]
  },
  {
   "cell_type": "code",
   "execution_count": 39,
   "id": "gentle-prison",
   "metadata": {},
   "outputs": [],
   "source": [
    "def generate_random_rectangles(n):\n",
    "    return [Rectangle(random.uniform(0.01,0.2), random.uniform(0.01,0.2)) for _ in range(n)]"
   ]
  },
  {
   "cell_type": "code",
   "execution_count": 40,
   "id": "included-cream",
   "metadata": {},
   "outputs": [
    {
     "data": {
      "image/png": "[encoded data removed]",
      "text/plain": [
       "<Figure size 144x720 with 1 Axes>"
      ]
     },
     "metadata": {
      "needs_background": "light"
     },
     "output_type": "display_data"
    }
   ],
   "source": [
    "rectangles = generate_random_rectangles(100)\n",
    "strip = Strip(1/4, 2/3)\n",
    "for rectangle in rectangles:\n",
    "    strip.insert(rectangle)\n",
    "    \n",
    "strip.plot_packing()"
   ]
  },
  {
   "cell_type": "code",
   "execution_count": 41,
   "id": "limiting-graham",
   "metadata": {},
   "outputs": [
    {
     "data": {
      "image/png": "[encoded data removed]",
      "text/plain": [
       "<Figure size 144x1213.24 with 1 Axes>"
      ]
     },
     "metadata": {
      "needs_background": "light"
     },
     "output_type": "display_data"
    }
   ],
   "source": [
    "rectangles = generate_random_rectangles(1000)\n",
    "strip = Strip(1/4, 2/3)\n",
    "for rectangle in rectangles:\n",
    "    strip.insert(rectangle)\n",
    "    \n",
    "strip.plot_packing()"
   ]
  }
 ],
 "metadata": {
  "kernelspec": {
   "display_name": "Python 3",
   "language": "python",
   "name": "python3"
  },
  "language_info": {
   "codemirror_mode": {
    "name": "ipython",
    "version": 3
   },
   "file_extension": ".py",
   "mimetype": "text/x-python",
   "name": "python",
   "nbconvert_exporter": "python",
   "pygments_lexer": "ipython3",
   "version": "3.8.8"
  }
 },
 "nbformat": 4,
 "nbformat_minor": 5
}
