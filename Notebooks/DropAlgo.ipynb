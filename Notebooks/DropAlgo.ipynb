{
 "cells": [
  {
   "cell_type": "markdown",
   "metadata": {},
   "source": [
    "## Ideas\n",
    "\n",
    "- Rectangle class as in SPG\n",
    "- DS to keep track of \n",
    "    - Height of interval in strip\n",
    "    - Length of interval\n",
    "- Should query for leftmost lowest interval of size greater than rectangle width. \n",
    "- After query we should update the intervals - which intervals should be updated? \n",
    "    - Naive method: Recompute all intervals after each insertion."
   ]
  },
  {
   "cell_type": "code",
   "execution_count": 4,
   "metadata": {},
   "outputs": [],
   "source": [
    "import bisect\n",
    "import matplotlib.pyplot as plt"
   ]
  },
  {
   "cell_type": "code",
   "execution_count": 5,
   "metadata": {},
   "outputs": [],
   "source": [
    "class Rectangle: \n",
    "    def __init__(self, width, height):\n",
    "        self.height, self.width = height, width\n",
    "\n",
    "    def rotate(self):\n",
    "        self.height, self.width = (self.width, self.height) if self.height < self.width else (self.height, self.width)\n",
    "        \n",
    "    def get_dimensions(self):\n",
    "        return self.height, self.width\n",
    "    \n",
    "    def get_area(self):\n",
    "        return self.height * self.width\n",
    "    \n",
    "    def __str__(self):\n",
    "        return f\"Rectangle({self.width}, {self.height})\"\n",
    "    \n",
    "    def __repr__(self):\n",
    "        return self.__str__()"
   ]
  },
  {
   "cell_type": "code",
   "execution_count": 6,
   "metadata": {},
   "outputs": [],
   "source": [
    "# Array of rectangles (or strip bottom) reachable from above.\n",
    "# Each element contains y-value of top of rectangle and the rectangle itself.\n",
    "beachline = [] # ((x-value of left side, x-value of right side, top y-value), rectangle)\n",
    "intervals = [] # (start, stop, length) should keep sorted by the start.\n",
    "intervals_start = [] # [x[0] for x in intervals]"
   ]
  },
  {
   "cell_type": "code",
   "execution_count": 48,
   "metadata": {},
   "outputs": [],
   "source": [
    "def recompute_intervals():\n",
    "    # While the flat level is not filled and can still be filled - then fill the bottom. \n",
    "    ints = []\n",
    "    ints_start = [x[0] for x in intervals]\n",
    "    for i, ((xl1, xr1, y1), r1) in enumerate(beachline):\n",
    "        j, k   = i+1, i-1 # right pointer, # left pointer \n",
    "        strip_boundary = False\n",
    "        # Expand from current rectangle on beachline.\n",
    "        sl = 0\n",
    "        sr = 0\n",
    "        for q, ((xl0, xr0, y0), r0) in enumerate(beachline):\n",
    "            if q < i and y0 >= y1:\n",
    "                sl += r0.width\n",
    "            if q > i and y0 >= y1:\n",
    "                sr += r0.width\n",
    "        if sl >= xl1:\n",
    "            k = -float(\"inf\")\n",
    "        if sr >= 1-xr1:\n",
    "            j = float(\"inf\")\n",
    "        while j <= len(beachline)-1 or k >= 0:\n",
    "            if j <= len(beachline)-1:\n",
    "                (xl2,xr2, y2), r2 = beachline[j] # right rect\n",
    "                if y2 >= y1:                \n",
    "                    idx = bisect.bisect_left(ints_start, xl1)\n",
    "                    ints.insert(j, (min(xr1, xl2), max(xr1, xl2), abs(xl2 - xr1)))\n",
    "                    j = float(\"inf\") # no need to look more here\n",
    "            if k >= 0:\n",
    "                (xl3,xr3, y3), r3 = beachline[k] # left rect\n",
    "                if y3 >= y1:\n",
    "                    idx = bisect.bisect_left(ints_start, xr1)\n",
    "                    ints.insert(k, (min(xr3, xl1), max(xr3, xl1), abs(xl1 - xr3)))\n",
    "                    k = -float(\"inf\") # no need to look more here\n",
    "            if j < len(beachline):\n",
    "                j += 1\n",
    "            if k > -1:\n",
    "                k -= 1\n",
    "        if j == len(beachline):\n",
    "            idx = bisect.bisect_left(ints_start, xl1)\n",
    "            ints.append((xr1, 1, abs(1 - xr1)))\n",
    "        if k == -1:\n",
    "            idx = bisect.bisect_left(ints_start, xr1)\n",
    "            ints.insert(0, (0, xl1, abs(xl1 - 0)))\n",
    "\n",
    "    return [x for x in ints if x[2] != 0]\n",
    "                \n",
    "                \n",
    "                    \n",
    "        \n",
    "# Finds viable spot for rectangle and updates the beachline.\n",
    "def find_position(rectangle):\n",
    "    rectangle.rotate()\n",
    "    beach_start = [x[0][0] for x in beachline]\n",
    "    x_left  = 0\n",
    "    x_right = 0 \n",
    "    for start, stop, length in intervals:\n",
    "        if length >= rectangle.width:\n",
    "            x_left = start\n",
    "            x_right = start + rectangle.width\n",
    "            \n",
    "    # if no interval is viable place on top of all currently placed rectangles left-justified\n",
    "    if x_left == 0 and x_right == 0:\n",
    "        x_left = 0\n",
    "        x_right = rectangle.width\n",
    "        max_y = max(beachline, key=lambda x: x[0][2])[0][2]\n",
    "    else: \n",
    "        max_y = 0\n",
    "    to_pop = []\n",
    "    for i, ((x1, x2, y), r) in enumerate(beachline):\n",
    "        if x1 >= x_left and x2 <= x_right:\n",
    "            to_pop.append(i)\n",
    "            max_y = max(max_y, y)\n",
    "        if x1 > x_left or x2 > x_right:\n",
    "            max_y = max(max_y, y)\n",
    "\n",
    "    offset = 0\n",
    "    for i in to_pop:\n",
    "        beachline.pop(i-offset)\n",
    "        \n",
    "        \n",
    "    # TODO: Replace with binary search\n",
    "    idx = bisect.bisect_left(beach_start, x_left)\n",
    "    beachline.insert(idx, ((x_left, x_right, max_y + rectangle.height), rectangle))\n",
    "    for_plotting.append(((x_left, max_y), rectangle))\n",
    "    \n",
    "    return "
   ]
  },
  {
   "cell_type": "code",
   "execution_count": 49,
   "metadata": {},
   "outputs": [],
   "source": [
    "beachline = [((0, 0.2, 0.5), Rectangle(0.2, 0.5))] \n",
    "intervals = [(0.2, 1.0, 0.8)] #(start, stop, length) should keep sorted by the start.\n",
    "for_plotting = [((0,0), Rectangle(0.2, 0.5))]"
   ]
  },
  {
   "cell_type": "code",
   "execution_count": 50,
   "metadata": {},
   "outputs": [],
   "source": [
    "import random"
   ]
  },
  {
   "cell_type": "code",
   "execution_count": 56,
   "metadata": {},
   "outputs": [],
   "source": [
    "for _ in range(10):\n",
    "    find_position(Rectangle(random.uniform(0.01, 0.5), random.uniform(0.01, 0.5)))\n",
    "    intervals = recompute_intervals()"
   ]
  },
  {
   "cell_type": "code",
   "execution_count": 57,
   "metadata": {},
   "outputs": [
    {
     "data": {
      "image/png": "[encoded data removed]",
      "text/plain": [
       "<Figure size 144x720 with 1 Axes>"
      ]
     },
     "metadata": {
      "needs_background": "light"
     },
     "output_type": "display_data"
    }
   ],
   "source": [
    "fig = plt.figure(figsize=(2, max(10, 10)))\n",
    "ax = fig.add_subplot(111)\n",
    "ax.set_xlim([0, 1])\n",
    "ax.set_ylim([0, 10+0.1/1])\n",
    "ax.set_aspect('equal')\n",
    "cur_y = 0\n",
    "\n",
    "for (x,y), rectangle in for_plotting:\n",
    "    ax.add_patch(plt.Rectangle((x, y),\n",
    "                               rectangle.width,\n",
    "                               rectangle.height,\n",
    "                               linestyle=\"-\",\n",
    "                               ec = \"black\",\n",
    "                               fc = \"grey\"))"
   ]
  },
  {
   "cell_type": "code",
   "execution_count": 53,
   "metadata": {},
   "outputs": [
    {
     "data": {
      "text/plain": [
       "([((0, 0.2, 0.5), Rectangle(0.2, 0.5)),\n",
       "  ((0.2, 0.24474516797920448, 0.49289123502897514),\n",
       "   Rectangle(0.044745167979204456, 0.49289123502897514)),\n",
       "  ((0.24474516797920448, 0.3348757991398968, 1.1644128007240764),\n",
       "   Rectangle(0.09013063116069231, 0.3676695180227828)),\n",
       "  ((0.3256610611314541, 0.394292178358723, 0.20229361939514515),\n",
       "   Rectangle(0.06863111722726886, 0.20229361939514515)),\n",
       "  ((0.3348757991398968, 0.4329378723397166, 1.2542255947699172),\n",
       "   Rectangle(0.09806207319981981, 0.45748231206862383)),\n",
       "  ((0.394292178358723, 0.4700201636166765, 0.2862335604592466),\n",
       "   Rectangle(0.07572798525795348, 0.2862335604592466)),\n",
       "  ((0.4329378723397166, 0.6591550078202414, 1.2073273513149079),\n",
       "   Rectangle(0.22621713548052483, 0.41058406861361435)),\n",
       "  ((0.5451593626583674, 0.9273196346296502, 0.7967432827012935),\n",
       "   Rectangle(0.38216027197128283, 0.4498767889389181))],\n",
       " [(0, 0.3348757991398968, 0.3348757991398968),\n",
       "  (0, 0.24474516797920448, 0.24474516797920448),\n",
       "  (0.2, 0.24474516797920448, 0.04474516797920447),\n",
       "  (0.4329378723397166, 1, 0.5670621276602834),\n",
       "  (0.5451593626583674, 0.6591550078202414, 0.11399564516187399),\n",
       "  (0.6591550078202414, 1, 0.3408449921797586),\n",
       "  (0.9273196346296502, 1, 0.07268036537034983)])"
      ]
     },
     "execution_count": 53,
     "metadata": {},
     "output_type": "execute_result"
    }
   ],
   "source": [
    "beachline, intervals"
   ]
  },
  {
   "cell_type": "code",
   "execution_count": null,
   "metadata": {},
   "outputs": [],
   "source": []
  }
 ],
 "metadata": {
  "kernelspec": {
   "display_name": "Python 3",
   "language": "python",
   "name": "python3"
  },
  "language_info": {
   "codemirror_mode": {
    "name": "ipython",
    "version": 3
   },
   "file_extension": ".py",
   "mimetype": "text/x-python",
   "name": "python",
   "nbconvert_exporter": "python",
   "pygments_lexer": "ipython3",
   "version": "3.8.8"
  }
 },
 "nbformat": 4,
 "nbformat_minor": 4
}
